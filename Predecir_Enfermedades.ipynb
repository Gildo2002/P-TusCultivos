{
 "metadata": {
  "language_info": {
   "codemirror_mode": {
    "name": "ipython",
    "version": 3
   },
   "file_extension": ".py",
   "mimetype": "text/x-python",
   "name": "python",
   "nbconvert_exporter": "python",
   "pygments_lexer": "ipython3",
   "version": "3.6.9"
  },
  "orig_nbformat": 4,
  "kernelspec": {
   "name": "python3",
   "display_name": "Python 3.6.9 64-bit"
  },
  "interpreter": {
   "hash": "31f2aee4e71d21fbe5cf8b01ff0e069b9275f58929596ceb00d14d90e3e16cd6"
  }
 },
 "nbformat": 4,
 "nbformat_minor": 2,
 "cells": [
  {
   "source": [
    "# PREPARAR MODELO"
   ],
   "cell_type": "markdown",
   "metadata": {}
  },
  {
   "cell_type": "code",
   "execution_count": 23,
   "metadata": {},
   "outputs": [],
   "source": [
    "from skimage.transform import resize\n",
    "from keras.models import load_model\n",
    "import matplotlib.pyplot as plt\n",
    "import numpy as np\n",
    "\n",
    "plant_model = load_model('Models/plant_models_R200_E50_B50.h5py')\n",
    "\n",
    "images=[]\n",
    "# AQUI ESPECIFICAMOS UNAS IMAGENES\n",
    "\n",
    "enfermedades = ['Anublo'\n",
    ",'Hoja_Blanca'\n",
    ", 'Mancha_Marron'\n",
    ", 'Saludable'\n",
    ", 'Tungro']\n",
    "\n",
    "resX = resY = 200\n"
   ]
  },
  {
   "cell_type": "code",
   "execution_count": 31,
   "metadata": {},
   "outputs": [],
   "source": [
    "path = '/media/hexlinux/ROM/TusCultivos/P-TusCultivos/ImgTest/Tungro/'\n",
    "\n",
    "filedir = os.listdir(path)\n",
    "filenames = []\n",
    "for fileimage in filedir:\n",
    "  filenames.append(path + str(fileimage))"
   ]
  },
  {
   "source": [
    "# PONER MODELO A PREDECIR"
   ],
   "cell_type": "markdown",
   "metadata": {}
  },
  {
   "cell_type": "code",
   "execution_count": 32,
   "metadata": {},
   "outputs": [
    {
     "output_type": "stream",
     "name": "stdout",
     "text": [
      "tungro__0_9194.jpg  \t  Hoja_Blanca\ntungro__0_9204.jpg  \t  Anublo\ntungro__0_9222.jpg  \t  Hoja_Blanca\ntungro__0_9228.jpg  \t  Anublo\ntungro__0_9230.jpg  \t  Anublo\ntungro__0_9232.jpg  \t  Anublo\ntungro__0_9264.jpg  \t  Anublo\ntungro__0_9267.jpg  \t  Mancha_Marron\ntungro__0_9291.jpg  \t  Hoja_Blanca\ntungro__0_9361.jpg  \t  Anublo\ntungro__0_9392.jpg  \t  Hoja_Blanca\ntungro__0_9399.jpg  \t  Anublo\ntungro__0_9402.jpg  \t  Anublo\ntungro__0_9407.jpg  \t  Anublo\ntungro__0_9415.jpg  \t  Anublo\ntungro__0_9421.jpg  \t  Hoja_Blanca\ntungro__0_9432.jpg  \t  Anublo\ntungro__0_9468.jpg  \t  Mancha_Marron\ntungro__0_9475.jpg  \t  Anublo\ntungro__0_9504.jpg  \t  Mancha_Marron\n"
     ]
    },
    {
     "output_type": "error",
     "ename": "IndexError",
     "evalue": "list index out of range",
     "traceback": [
      "\u001b[0;31m---------------------------------------------------------------------------\u001b[0m",
      "\u001b[0;31mIndexError\u001b[0m                                Traceback (most recent call last)",
      "\u001b[0;32m<ipython-input-32-481cc478ea9a>\u001b[0m in \u001b[0;36m<module>\u001b[0;34m\u001b[0m\n\u001b[1;32m     16\u001b[0m     \u001b[0;31m#plt.imshow(plt.imread(filenames[i],0))\u001b[0m\u001b[0;34m\u001b[0m\u001b[0;34m\u001b[0m\u001b[0;34m\u001b[0m\u001b[0m\n\u001b[1;32m     17\u001b[0m     \u001b[0;31m#plt.show()\u001b[0m\u001b[0;34m\u001b[0m\u001b[0;34m\u001b[0m\u001b[0;34m\u001b[0m\u001b[0m\n\u001b[0;32m---> 18\u001b[0;31m     \u001b[0mprint\u001b[0m\u001b[0;34m(\u001b[0m\u001b[0mfiledir\u001b[0m\u001b[0;34m[\u001b[0m\u001b[0mi\u001b[0m\u001b[0;34m]\u001b[0m\u001b[0;34m,\u001b[0m \u001b[0;34m\" \\t \"\u001b[0m\u001b[0;34m,\u001b[0m\u001b[0menfermedades\u001b[0m\u001b[0;34m[\u001b[0m\u001b[0mimg_tagged\u001b[0m\u001b[0;34m.\u001b[0m\u001b[0mtolist\u001b[0m\u001b[0;34m(\u001b[0m\u001b[0;34m)\u001b[0m\u001b[0;34m.\u001b[0m\u001b[0mindex\u001b[0m\u001b[0;34m(\u001b[0m\u001b[0mmax\u001b[0m\u001b[0;34m(\u001b[0m\u001b[0mimg_tagged\u001b[0m\u001b[0;34m)\u001b[0m\u001b[0;34m)\u001b[0m\u001b[0;34m]\u001b[0m\u001b[0;34m)\u001b[0m\u001b[0;34m\u001b[0m\u001b[0;34m\u001b[0m\u001b[0m\n\u001b[0m",
      "\u001b[0;31mIndexError\u001b[0m: list index out of range"
     ]
    }
   ],
   "source": [
    "\n",
    "for filepath in filenames:\n",
    "    image = plt.imread(filepath,0)\n",
    "    image_resized = resize(image, (resX, resY),anti_aliasing=True,clip=False,preserve_range=True)\n",
    "    images.append(image_resized)\n",
    "\n",
    "X = np.array(images, dtype=np.uint8) #convierto de lista a numpy\n",
    "test_X = X.astype('float32')\n",
    "test_X = test_X / 255.\n",
    "\n",
    "predicted_classes = plant_model.predict(test_X)\n",
    "\n",
    "\n",
    "\n",
    "\n",
    "for i, img_tagged in enumerate(predicted_classes):\n",
    "    #plt.imshow(plt.imread(filenames[i],0))\n",
    "    #plt.show()\n",
    "    print(filedir[i], \" \\t \",enfermedades[img_tagged.tolist().index(max(img_tagged))])\n"
   ]
  },
  {
   "cell_type": "code",
   "execution_count": null,
   "metadata": {},
   "outputs": [],
   "source": []
  }
 ]
}